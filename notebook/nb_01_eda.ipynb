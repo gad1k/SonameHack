{
 "cells": [
  {
   "cell_type": "code",
   "execution_count": 1,
   "id": "ffe6c00c",
   "metadata": {},
   "outputs": [],
   "source": [
    "import pandas as pd\n",
    "import numpy as np\n",
    "import seaborn as sns\n",
    "import matplotlib.pyplot as plt\n",
    "import json\n",
    "import psycopg2\n",
    "\n",
    "from pathlib import Path\n",
    "from sklearn.preprocessing import LabelEncoder, StandardScaler, PolynomialFeatures\n",
    "from sklearn.svm import SVC, LinearSVC\n",
    "from sklearn.neighbors import KNeighborsClassifier\n",
    "from sklearn.linear_model import RidgeClassifier\n",
    "from sklearn.tree import DecisionTreeClassifier\n",
    "from sklearn.ensemble import RandomForestClassifier, AdaBoostClassifier, StackingClassifier\n",
    "from sklearn.pipeline import make_pipeline\n",
    "from sklearn.model_selection import train_test_split\n",
    "from xgboost import XGBClassifier\n",
    "\n",
    "pd.set_option(\"display.max_rows\", 1000)"
   ]
  },
  {
   "cell_type": "code",
   "execution_count": 74,
   "id": "10aabed1",
   "metadata": {},
   "outputs": [],
   "source": [
    "CONFIG_DIR = Path(\"../config/\")\n",
    "DATA_DIR = Path(\"../data/\")\n",
    "\n",
    "def get_creds(name):\n",
    "    with CONFIG_DIR.joinpath(\"cfg_02_creds.json\").open(encoding=\"utf-8\") as data:\n",
    "        return json.load(data).get(name)\n",
    "    \n",
    "creds = get_creds(\"hackathon_hst\")\n",
    "with psycopg2.connect(**creds) as conn:\n",
    "    with conn.cursor() as cur:\n",
    "        query = \"\"\"select * \n",
    "                     from public.data_1m\n",
    "                \"\"\"\n",
    "        cur.execute(query)\n",
    "        cols = [desc[0] for desc in cur.description]\n",
    "        raw_data = pd.DataFrame(cur.fetchall(), columns=cols)"
   ]
  },
  {
   "cell_type": "code",
   "execution_count": 75,
   "id": "7dc365b8",
   "metadata": {},
   "outputs": [],
   "source": [
    "data = raw_data.copy()"
   ]
  },
  {
   "cell_type": "code",
   "execution_count": null,
   "id": "7c036474",
   "metadata": {},
   "outputs": [],
   "source": [
    "print(data.head(10))\n",
    "print(\"###############################\")\n",
    "print(data[\"target\"].value_counts())"
   ]
  },
  {
   "cell_type": "code",
   "execution_count": 77,
   "id": "7ebb46f3",
   "metadata": {},
   "outputs": [],
   "source": [
    "orig = pd.DataFrame()\n",
    "orig[\"light\"] = data[\"light\"]\n",
    "orig[\"nearby\"] = data[\"nearby\"]\n",
    "orig[\"weather\"] = data[\"weather\"]\n",
    "orig[\"road_conditions\"] = data[\"road_conditions\"] "
   ]
  },
  {
   "cell_type": "code",
   "execution_count": 86,
   "id": "06a78ac3",
   "metadata": {},
   "outputs": [],
   "source": [
    "data[\"light\"] = LabelEncoder().fit_transform(data[\"light\"])\n",
    "data[\"nearby\"] = LabelEncoder().fit_transform(data[\"nearby\"])\n",
    "data[\"weather\"] = LabelEncoder().fit_transform(data[\"weather\"])\n",
    "data[\"road_conditions\"] = LabelEncoder().fit_transform(data[\"road_conditions\"])\n",
    "\n",
    "#x = data[[\"light\", \"nearby\", \"weather\", \"road_conditions\", \"day\", \"hour\"]]\n",
    "data[[\"light\", \"weather\", \"day\", \"hour\"]]\n",
    "y = data[\"target\"]\n",
    "\n",
    "x_train, x_test, y_train, y_test = train_test_split(x, y, test_size = 0.3)"
   ]
  },
  {
   "cell_type": "code",
   "execution_count": 87,
   "id": "8011b11a",
   "metadata": {},
   "outputs": [
    {
     "name": "stdout",
     "output_type": "stream",
     "text": [
      "          Decision Tree Classifier: 0.8452\n",
      "                  Ridge Classifier: 0.9039\n",
      "(Bagging) Random Forest Classifier: 0.9039\n"
     ]
    }
   ],
   "source": [
    "#knn = KNeighborsClassifier(n_neighbors=3)\n",
    "#knn.fit(x, y)\n",
    "#print(\"KNN:\".rjust(35), round(svm.score(x, y), 4))\n",
    "\n",
    "#svm = make_pipeline(StandardScaler(), SVC(gamma=\"auto\"))\n",
    "#svm.fit(x, y)\n",
    "#print(\"SVM:\".rjust(35), round(svm.score(x, y), 4))\n",
    "\n",
    "dtc = DecisionTreeClassifier()\n",
    "dtc.fit(x_train, y_train)\n",
    "print(\"Decision Tree Classifier:\".rjust(35), round(dtc.score(x_test, y_test), 4))\n",
    "\n",
    "rc = RidgeClassifier(alpha=1.0)\n",
    "rc.fit(x_train, y_train)\n",
    "print(\"Ridge Classifier:\".rjust(35), round(rc.score(x_test, y_test), 4))\n",
    "\n",
    "rfc = RandomForestClassifier(max_depth=3, random_state=0)\n",
    "rfc.fit(x_train, y_train)\n",
    "print(\"(Bagging) Random Forest Classifier:\".rjust(35), round(rfc.score(x_test, y_test), 4))\n",
    "\n",
    "#abc = AdaBoostClassifier(n_estimators=100, random_state=0)\n",
    "#abc.fit(x_train, y_train)\n",
    "#print(\"(Boosting) Ada Boost Classifier:\".rjust(35), round(abc.score(x_test, y_test), 4))\n",
    "\n",
    "#estimators = [\n",
    "#    (\"rfc\", RandomForestClassifier(n_estimators=10, random_state=42)), \n",
    "#    (\"svc\", make_pipeline(StandardScaler(), LinearSVC(random_state=42)))\n",
    "#]\n",
    "\n",
    "#sc = StackingClassifier(estimators = estimators, final_estimator=LogisticRegression())\n",
    "#sc.fit(x, y)\n",
    "#print(\"(Stacking) Classifier:\".rjust(35), round(sc.score(x, y), 4))"
   ]
  },
  {
   "cell_type": "code",
   "execution_count": 98,
   "id": "26ba82f8",
   "metadata": {
    "scrolled": true
   },
   "outputs": [],
   "source": [
    "results = pd.DataFrame()\n",
    "results[\"light\"] = x_test[\"light\"]\n",
    "results[\"nearby\"] = x_test[\"nearby\"]\n",
    "results[\"weather\"] = x_test[\"weather\"]\n",
    "results[\"road_conditions\"] = x_test[\"road_conditions\"]\n",
    "results[\"day\"] = x_test[\"day\"]\n",
    "results[\"hour\"] = x_test[\"hour\"]\n",
    "results[\"#1\"] = \"#\"\n",
    "results[\"target\"] = y_test\n",
    "results[\"#2\"] = \"#\"\n",
    "#results[\"knn\"] = knn.predict(x)\n",
    "#results[\"svm\"] = svm.predict(x)\n",
    "results[\"dtc\"] = dtc.predict(x_test)\n",
    "results[\"rc\"] = rc.predict(x_test)\n",
    "results[\"rfc\"] = rfc.predict(x_test)\n",
    "#results[\"abc\"] = abc.predict(x)\n",
    "#results[\"sc\"] = sc.predict(x)"
   ]
  },
  {
   "cell_type": "code",
   "execution_count": 100,
   "id": "30c4c71e",
   "metadata": {},
   "outputs": [
    {
     "name": "stdout",
     "output_type": "stream",
     "text": [
      "0     333527\n",
      "1      31115\n",
      "2       3186\n",
      "3        760\n",
      "4        261\n",
      "5         80\n",
      "6         24\n",
      "7          9\n",
      "9          5\n",
      "8          3\n",
      "17         1\n",
      "11         1\n",
      "10         1\n",
      "14         1\n",
      "15         1\n",
      "19         1\n",
      "12         1\n",
      "Name: target, dtype: int64\n"
     ]
    }
   ],
   "source": [
    "print(results[\"target\"].value_counts())"
   ]
  },
  {
   "cell_type": "code",
   "execution_count": 106,
   "id": "114f30e7",
   "metadata": {},
   "outputs": [
    {
     "data": {
      "text/html": [
       "<div>\n",
       "<style scoped>\n",
       "    .dataframe tbody tr th:only-of-type {\n",
       "        vertical-align: middle;\n",
       "    }\n",
       "\n",
       "    .dataframe tbody tr th {\n",
       "        vertical-align: top;\n",
       "    }\n",
       "\n",
       "    .dataframe thead th {\n",
       "        text-align: right;\n",
       "    }\n",
       "</style>\n",
       "<table border=\"1\" class=\"dataframe\">\n",
       "  <thead>\n",
       "    <tr style=\"text-align: right;\">\n",
       "      <th></th>\n",
       "      <th>light</th>\n",
       "      <th>nearby</th>\n",
       "      <th>weather</th>\n",
       "      <th>road_conditions</th>\n",
       "      <th>day</th>\n",
       "      <th>hour</th>\n",
       "      <th>#1</th>\n",
       "      <th>target</th>\n",
       "      <th>#2</th>\n",
       "      <th>dtc</th>\n",
       "      <th>rc</th>\n",
       "      <th>rfc</th>\n",
       "    </tr>\n",
       "  </thead>\n",
       "  <tbody>\n",
       "    <tr>\n",
       "      <th>114388</th>\n",
       "      <td>2.0</td>\n",
       "      <td>45222.0</td>\n",
       "      <td>32.0</td>\n",
       "      <td>4531.0</td>\n",
       "      <td>20</td>\n",
       "      <td>18</td>\n",
       "      <td>#</td>\n",
       "      <td>3.0</td>\n",
       "      <td>#</td>\n",
       "      <td>3.0</td>\n",
       "      <td>0.0</td>\n",
       "      <td>0.0</td>\n",
       "    </tr>\n",
       "  </tbody>\n",
       "</table>\n",
       "</div>"
      ],
      "text/plain": [
       "        light   nearby  weather  road_conditions day hour #1  target #2  dtc  \\\n",
       "114388    2.0  45222.0     32.0           4531.0  20   18  #     3.0  #  3.0   \n",
       "\n",
       "         rc  rfc  \n",
       "114388  0.0  0.0  "
      ]
     },
     "execution_count": 106,
     "metadata": {},
     "output_type": "execute_result"
    }
   ],
   "source": [
    "#results.head(10)\n",
    "results.where((results.target == results.dtc) & (results.target == 3)).dropna()"
   ]
  },
  {
   "cell_type": "code",
   "execution_count": null,
   "id": "17448e08",
   "metadata": {},
   "outputs": [],
   "source": [
    "results[\"weather\"].value_counts()"
   ]
  },
  {
   "cell_type": "code",
   "execution_count": 73,
   "id": "8e4055b9",
   "metadata": {},
   "outputs": [
    {
     "data": {
      "image/png": "[encoded data removed]",
      "text/plain": [
       "<Figure size 640x480 with 1 Axes>"
      ]
     },
     "metadata": {},
     "output_type": "display_data"
    }
   ],
   "source": [
    "plt.hist(results[\"road_conditions\"], bins=60)\n",
    "plt.show()"
   ]
  }
 ],
 "metadata": {
  "kernelspec": {
   "display_name": "Python 3 (ipykernel)",
   "language": "python",
   "name": "python3"
  },
  "language_info": {
   "codemirror_mode": {
    "name": "ipython",
    "version": 3
   },
   "file_extension": ".py",
   "mimetype": "text/x-python",
   "name": "python",
   "nbconvert_exporter": "python",
   "pygments_lexer": "ipython3",
   "version": "3.9.13"
  }
 },
 "nbformat": 4,
 "nbformat_minor": 5
}
